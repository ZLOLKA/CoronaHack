{
 "cells": [
  {
   "cell_type": "code",
   "execution_count": 1,
   "metadata": {},
   "outputs": [
    {
     "name": "stdout",
     "output_type": "stream",
     "text": [
      "Wall time: 3.24 s\n"
     ]
    }
   ],
   "source": [
    "%%time\n",
    "import cv2\n",
    "import numpy as np\n",
    "import pandas as pd\n",
    "from matplotlib import pyplot as plt\n",
    "import matplotlib.cbook as cbook\n",
    "from memory_profiler import memory_usage\n",
    "import seaborn as sns\n",
    "import warnings\n",
    "from tqdm import tqdm\n",
    "import pickle\n",
    "%matplotlib inline  # For graphs display in JupyterNotebook\n",
    "\n",
    "pd.options.mode.chained_assignment = None  # For disable SettingWithCopyWarning, arising from the ambiguity of change"
   ]
  },
  {
   "cell_type": "markdown",
   "metadata": {},
   "source": [
    "## Read and pretreatment data "
   ]
  },
  {
   "cell_type": "code",
   "execution_count": 2,
   "metadata": {},
   "outputs": [],
   "source": [
    "data = pd.read_csv('Chest_xray_Corona_Metadata.csv', sep=',')"
   ]
  },
  {
   "cell_type": "code",
   "execution_count": 3,
   "metadata": {},
   "outputs": [],
   "source": [
    "data.drop(\"Unnamed: 0\", axis=1, inplace=True) # Delete \"Unnamed: 0\" column because it enumerating objects"
   ]
  },
  {
   "cell_type": "code",
   "execution_count": 4,
   "metadata": {},
   "outputs": [],
   "source": [
    "data = data.rename({\n",
    "    \"Label\": \"Pnemonia\",\n",
    "    \"Label_1_Virus_category\": \"Type_of_disease\",\n",
    "    \"Label_2_Virus_category\": \"Cause_of_disease\"\n",
    "}, axis=\"columns\")"
   ]
  },
  {
   "cell_type": "code",
   "execution_count": 5,
   "metadata": {},
   "outputs": [
    {
     "name": "stdout",
     "output_type": "stream",
     "text": [
      "{'nan': 0, 'Virus': 1, 'bacteria': 2, 'Stress-Smoking': 3}\n",
      "{'nan': 0, 'Streptococcus': 1, 'COVID-19': 2, 'ARDS': 3, 'SARS': 4}\n",
      "{'Normal': 0, 'Pnemonia': 1}\n"
     ]
    }
   ],
   "source": [
    "types = {str(j): i for i, j in enumerate(list(data[\"Type_of_disease\"].unique()))}\n",
    "print(types)\n",
    "causes = {str(j): i for i, j in enumerate(list(data[\"Cause_of_disease\"].unique()))}\n",
    "print(causes)\n",
    "isPnemonia = {str(j): i for i, j in enumerate(list(data[\"Pnemonia\"].unique()))}\n",
    "print(isPnemonia)"
   ]
  },
  {
   "cell_type": "code",
   "execution_count": 6,
   "metadata": {},
   "outputs": [
    {
     "name": "stdout",
     "output_type": "stream",
     "text": [
      "Set of values Type_of_disease = [0 1 2 3]\n",
      "Set of values Cause_of_disease = [0 1 2 3 4]\n",
      "Set of values Pnemonia = [0 1]\n"
     ]
    }
   ],
   "source": [
    "data[\"Type_of_disease\"] = data[\"Type_of_disease\"].map(lambda x: types[str(x)])\n",
    "data[\"Cause_of_disease\"] = data[\"Cause_of_disease\"].map(lambda x: causes[str(x)])\n",
    "data[\"Pnemonia\"] = data[\"Pnemonia\"].map(lambda x: isPnemonia[str(x)])\n",
    "print(\"Set of values Type_of_disease =\", data[\"Type_of_disease\"].unique())\n",
    "print(\"Set of values Cause_of_disease =\", data[\"Cause_of_disease\"].unique())\n",
    "print(\"Set of values Pnemonia =\", data[\"Pnemonia\"].unique())"
   ]
  },
  {
   "cell_type": "code",
   "execution_count": 7,
   "metadata": {},
   "outputs": [],
   "source": [
    "data = data.astype({\n",
    "    \"Type_of_disease\": \"uint8\",\n",
    "    \"Cause_of_disease\": \"uint8\",\n",
    "    \"Pnemonia\": \"bool\"\n",
    "})"
   ]
  },
  {
   "cell_type": "code",
   "execution_count": 8,
   "metadata": {},
   "outputs": [
    {
     "name": "stdout",
     "output_type": "stream",
     "text": [
      "<class 'pandas.core.frame.DataFrame'>\n",
      "RangeIndex: 5910 entries, 0 to 5909\n",
      "Data columns (total 5 columns):\n",
      " #   Column            Non-Null Count  Dtype \n",
      "---  ------            --------------  ----- \n",
      " 0   X_ray_image_name  5910 non-null   object\n",
      " 1   Pnemonia          5910 non-null   bool  \n",
      " 2   Dataset_type      5910 non-null   object\n",
      " 3   Cause_of_disease  5910 non-null   uint8 \n",
      " 4   Type_of_disease   5910 non-null   uint8 \n",
      "dtypes: bool(1), object(2), uint8(2)\n",
      "memory usage: 109.8+ KB\n"
     ]
    }
   ],
   "source": [
    "data.info()"
   ]
  },
  {
   "cell_type": "code",
   "execution_count": 9,
   "metadata": {},
   "outputs": [],
   "source": [
    "train = data[data[\"Dataset_type\"] == \"TRAIN\"].drop([\"Dataset_type\"], axis=1)\n",
    "test = data[data[\"Dataset_type\"] != \"TRAIN\"].drop([\"Dataset_type\"], axis=1)"
   ]
  },
  {
   "cell_type": "code",
   "execution_count": 10,
   "metadata": {},
   "outputs": [
    {
     "ename": "Warning",
     "evalue": "",
     "output_type": "error",
     "traceback": [
      "\u001b[1;31m---------------------------------------------------------------------------\u001b[0m",
      "\u001b[1;31mWarning\u001b[0m                                   Traceback (most recent call last)",
      "\u001b[1;32m<ipython-input-10-dc32751fcde3>\u001b[0m in \u001b[0;36m<module>\u001b[1;34m\u001b[0m\n\u001b[1;32m----> 1\u001b[1;33m \u001b[1;32mraise\u001b[0m \u001b[0mWarning\u001b[0m\u001b[1;33m(\u001b[0m\u001b[1;33m)\u001b[0m\u001b[1;33m\u001b[0m\u001b[1;33m\u001b[0m\u001b[0m\n\u001b[0m",
      "\u001b[1;31mWarning\u001b[0m: "
     ]
    }
   ],
   "source": [
    "raise Warning()"
   ]
  },
  {
   "cell_type": "code",
   "execution_count": null,
   "metadata": {},
   "outputs": [],
   "source": [
    "print(types, \"\\n\", causes)\n",
    "pd.crosstab(data[\"Type_of_disease\"], data[\"Cause_of_disease\"])"
   ]
  },
  {
   "cell_type": "code",
   "execution_count": null,
   "metadata": {},
   "outputs": [],
   "source": [
    "test[\"Cause_of_disease\"].unique() # => \"Cause_of_disease\" target feature"
   ]
  },
  {
   "cell_type": "code",
   "execution_count": null,
   "metadata": {},
   "outputs": [],
   "source": [
    "train.head()"
   ]
  },
  {
   "cell_type": "code",
   "execution_count": null,
   "metadata": {},
   "outputs": [],
   "source": [
    "test_arr = [str(i) for i in range(5)]\n",
    "train[[*test_arr]] = pd.DataFrame([[0 for i in range(5)]])\n",
    "train.head()"
   ]
  },
  {
   "cell_type": "code",
   "execution_count": null,
   "metadata": {},
   "outputs": [],
   "source": [
    "%%time\n",
    "# MemoryEror\n",
    "arr = np.array([], dtype=\"int8\")\n",
    "train.sort_values(by=[\"X_ray_image_name\"], ascending=False, inplace=True)\n",
    "for img in tqdm(train[\"X_ray_image_name\"]):\n",
    "    with cbook.get_sample_data(\"C:\\\\Users\\\\Zlolka\\\\Desktop\\\\Job\\\\zlo1\\\\Python\\\\DataScience\\\\CoronaHack\"\n",
    "                               \"\\\\Coronahack-Chest-XRay-Dataset\\\\Coronahack-Chest-XRay-Dataset\\\\train\\\\\" + img) as img_f:\n",
    "        img_d = plt.imread(img_f)\n",
    "    if len(img_d.shape) == 3:\n",
    "        img_d = [[j[0] for j in i] for i in img_d] # Bottleneck\n",
    "    cv2.re\n",
    "    #print(\"\\r\", arr.nbytes, end=\"\")"
   ]
  },
  {
   "cell_type": "code",
   "execution_count": null,
   "metadata": {},
   "outputs": [],
   "source": [
    "with open(\"arr.pickle\", 'wb') as f:\n",
    "    pickle.dump(arr, f)"
   ]
  },
  {
   "cell_type": "code",
   "execution_count": null,
   "metadata": {},
   "outputs": [],
   "source": [
    "with open(\"arr.pickle\", 'rb') as f:\n",
    "    arr = pickle.load(f)"
   ]
  },
  {
   "cell_type": "code",
   "execution_count": null,
   "metadata": {},
   "outputs": [],
   "source": [
    "print(arr.shape)"
   ]
  },
  {
   "cell_type": "code",
   "execution_count": null,
   "metadata": {},
   "outputs": [],
   "source": [
    "train.sort_values(by=[\"X_ray_image_name\"], ascending=False, inplace=True)\n",
    "fig, axes = plt.subplots(1, 2)\n",
    "for img in train[\"X_ray_image_name\"]:\n",
    "    with cbook.get_sample_data(\"C:\\\\Users\\\\Zlolka\\\\Desktop\\\\Job\\\\zlo1\\\\Python\\\\DataScience\\\\CoronaHack\"\n",
    "                               \"\\\\Coronahack-Chest-XRay-Dataset\\\\Coronahack-Chest-XRay-Dataset\\\\train\\\\\" + img) as img_f:\n",
    "        if len(plt.imread(img_f).shape) == 3:\n",
    "            img1 = plt.imread(img_f).copy()\n",
    "            print(img)\n",
    "            print(img1)\n",
    "            print(img1.shape)\n",
    "            a = np.array([[j[0] for j in i] for i in img1]) # Bottleneck\n",
    "            print(a)\n",
    "            axes[0].imshow(img1)\n",
    "            axes[0].set_title(\"3D\")\n",
    "            axes[1].imshow(a)\n",
    "            axes[1].set_title(\"2D\")\n",
    "            plt.show()\n",
    "            break"
   ]
  },
  {
   "cell_type": "code",
   "execution_count": null,
   "metadata": {},
   "outputs": [],
   "source": [
    "df = pd.DataFrame(arr)"
   ]
  },
  {
   "cell_type": "code",
   "execution_count": null,
   "metadata": {},
   "outputs": [],
   "source": [
    "df.head()"
   ]
  },
  {
   "cell_type": "code",
   "execution_count": null,
   "metadata": {},
   "outputs": [],
   "source": [
    "sns.pairplot(df)"
   ]
  },
  {
   "cell_type": "markdown",
   "metadata": {},
   "source": [
    "# All information on program"
   ]
  },
  {
   "cell_type": "code",
   "execution_count": null,
   "metadata": {},
   "outputs": [],
   "source": [
    "memory_usage()"
   ]
  },
  {
   "cell_type": "code",
   "execution_count": null,
   "metadata": {},
   "outputs": [],
   "source": []
  }
 ],
 "metadata": {
  "kernelspec": {
   "display_name": "Python 3",
   "language": "python",
   "name": "python3"
  },
  "language_info": {
   "codemirror_mode": {
    "name": "ipython",
    "version": 3
   },
   "file_extension": ".py",
   "mimetype": "text/x-python",
   "name": "python",
   "nbconvert_exporter": "python",
   "pygments_lexer": "ipython3",
   "version": "3.8.3"
  }
 },
 "nbformat": 4,
 "nbformat_minor": 4
}
